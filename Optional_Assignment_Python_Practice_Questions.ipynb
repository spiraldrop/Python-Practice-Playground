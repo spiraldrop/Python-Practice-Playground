{
 "cells": [
  {
   "cell_type": "markdown",
   "metadata": {},
   "source": [
    "### 1. Write a function that inputs a number and prints the multiplication table of that number\n",
    "\n"
   ]
  },
  {
   "cell_type": "code",
   "execution_count": 3,
   "metadata": {
    "collapsed": true
   },
   "outputs": [
    {
     "name": "stdout",
     "output_type": "stream",
     "text": [
      "Please enter a number848484848484\n",
      "848484848484 x 1 = 848484848484\n",
      "848484848484 x 2 = 1696969696968\n",
      "848484848484 x 3 = 2545454545452\n",
      "848484848484 x 4 = 3393939393936\n",
      "848484848484 x 5 = 4242424242420\n",
      "848484848484 x 6 = 5090909090904\n",
      "848484848484 x 7 = 5939393939388\n",
      "848484848484 x 8 = 6787878787872\n",
      "848484848484 x 9 = 7636363636356\n",
      "848484848484 x 10 = 8484848484840\n",
      "848484848484 x 11 = 9333333333324\n",
      "848484848484 x 12 = 10181818181808\n"
     ]
    }
   ],
   "source": [
    "num = int(input('Please enter a number'))\n",
    "\n",
    "for x in range(1, 13):\n",
    "    print('{} x {} = {}'.format(num, x, x*num))"
   ]
  },
  {
   "cell_type": "markdown",
   "metadata": {},
   "source": [
    "### 2. Write a program to print twin primes less than 1000. If two consecutive odd numbers are both prime then they are known as twin primes"
   ]
  },
  {
   "cell_type": "code",
   "execution_count": 6,
   "metadata": {
    "collapsed": true
   },
   "outputs": [
    {
     "name": "stdout",
     "output_type": "stream",
     "text": [
      "3 and 5 are twin primes\n",
      "5 and 7 are twin primes\n",
      "11 and 13 are twin primes\n",
      "17 and 19 are twin primes\n",
      "29 and 31 are twin primes\n",
      "41 and 43 are twin primes\n",
      "59 and 61 are twin primes\n",
      "71 and 73 are twin primes\n",
      "101 and 103 are twin primes\n",
      "107 and 109 are twin primes\n",
      "137 and 139 are twin primes\n",
      "149 and 151 are twin primes\n",
      "179 and 181 are twin primes\n",
      "191 and 193 are twin primes\n",
      "197 and 199 are twin primes\n",
      "227 and 229 are twin primes\n",
      "239 and 241 are twin primes\n",
      "269 and 271 are twin primes\n",
      "281 and 283 are twin primes\n",
      "311 and 313 are twin primes\n",
      "347 and 349 are twin primes\n",
      "419 and 421 are twin primes\n",
      "431 and 433 are twin primes\n",
      "461 and 463 are twin primes\n",
      "521 and 523 are twin primes\n",
      "569 and 571 are twin primes\n",
      "599 and 601 are twin primes\n",
      "617 and 619 are twin primes\n",
      "641 and 643 are twin primes\n",
      "659 and 661 are twin primes\n",
      "809 and 811 are twin primes\n",
      "821 and 823 are twin primes\n",
      "827 and 829 are twin primes\n",
      "857 and 859 are twin primes\n",
      "881 and 883 are twin primes\n"
     ]
    }
   ],
   "source": [
    "prime_numbers = []\n",
    "\n",
    "for num in range(1001):\n",
    "    if num > 1:\n",
    "        isDiv = False # initially setting it false\n",
    "        for check in range(2, num):\n",
    "            if num % check == 0:\n",
    "                isDiv = True\n",
    "        \n",
    "        if not isDiv:  \n",
    "            prime_numbers.append(num)\n",
    "\n",
    "for prime_num in prime_numbers:\n",
    "    twin_prime = prime_num+2\n",
    "    if (prime_num and twin_prime in prime_numbers):\n",
    "        print('{} and {} are twin primes'.format(prime_num, twin_prime))"
   ]
  },
  {
   "cell_type": "markdown",
   "metadata": {},
   "source": [
    "###  3. Write a program to find out the prime factors of a number. Example: prime factors of 56 - 2, 2, 2, 7"
   ]
  },
  {
   "cell_type": "code",
   "execution_count": 5,
   "metadata": {
    "collapsed": true
   },
   "outputs": [
    {
     "name": "stdout",
     "output_type": "stream",
     "text": [
      "3 and 5 are twin primes\n",
      "5 and 7 are twin primes\n",
      "11 and 13 are twin primes\n",
      "17 and 19 are twin primes\n",
      "29 and 31 are twin primes\n",
      "41 and 43 are twin primes\n",
      "59 and 61 are twin primes\n",
      "71 and 73 are twin primes\n",
      "101 and 103 are twin primes\n",
      "107 and 109 are twin primes\n",
      "137 and 139 are twin primes\n",
      "149 and 151 are twin primes\n",
      "179 and 181 are twin primes\n",
      "191 and 193 are twin primes\n",
      "197 and 199 are twin primes\n",
      "227 and 229 are twin primes\n",
      "239 and 241 are twin primes\n",
      "269 and 271 are twin primes\n",
      "281 and 283 are twin primes\n",
      "311 and 313 are twin primes\n",
      "347 and 349 are twin primes\n",
      "419 and 421 are twin primes\n",
      "431 and 433 are twin primes\n",
      "461 and 463 are twin primes\n",
      "521 and 523 are twin primes\n",
      "569 and 571 are twin primes\n",
      "599 and 601 are twin primes\n",
      "617 and 619 are twin primes\n",
      "641 and 643 are twin primes\n",
      "659 and 661 are twin primes\n",
      "809 and 811 are twin primes\n",
      "821 and 823 are twin primes\n",
      "827 and 829 are twin primes\n",
      "857 and 859 are twin primes\n",
      "881 and 883 are twin primes\n"
     ]
    }
   ],
   "source": [
    "prime_numbers = []\n",
    "\n",
    "for num in range(1001):\n",
    "    if num > 1:\n",
    "        isDiv = False # initially setting it false\n",
    "        for check in range(2, num):\n",
    "            if num % check == 0:\n",
    "                isDiv = True\n",
    "        \n",
    "        if not isDiv:  \n",
    "            prime_numbers.append(num)\n",
    "\n",
    "for y in prime_numbers:\n",
    "    z=y+2\n",
    "    if (y and z in prime_numbers):\n",
    "        print('{} and {} are twin primes'.format(y, z))"
   ]
  },
  {
   "cell_type": "markdown",
   "metadata": {},
   "source": [
    "### 4. Write a program to implement these formulae of permutations and combinations. Number of permutations of n objects taken r at a time: p(n, r) = n! / (n-r)!. Number of combinations of n objects taken r at a time is: c(n, r) = n! / (r!*(n-r)!) = p(n,r) / r!"
   ]
  },
  {
   "cell_type": "code",
   "execution_count": 7,
   "metadata": {
    "collapsed": true
   },
   "outputs": [
    {
     "name": "stdout",
     "output_type": "stream",
     "text": [
      "Permutation:  336.0\n",
      "Combination:  56.0\n"
     ]
    }
   ],
   "source": [
    "import numpy as np\n",
    "\n",
    "def perm_and_comb(n, r):\n",
    "    \"\"\"\n",
    "    This fuction implements the formulae of permutations and combinations.\"\"\"\n",
    "   \n",
    "    p = np.math.factorial(n)/np.math.factorial(n-r)\n",
    "    c = p/np.math.factorial(r)\n",
    "    print('Permutation: ', p)\n",
    "    print('Combination: ', c)\n",
    "    \n",
    "perm_and_comb(8, 3)"
   ]
  },
  {
   "cell_type": "markdown",
   "metadata": {},
   "source": [
    "### 5. Write a function that converts a decimal number to binary number\n"
   ]
  },
  {
   "cell_type": "code",
   "execution_count": null,
   "metadata": {},
   "outputs": [],
   "source": [
    "num = int(input('Enter decimal number:\\t'))\n",
    "lst = []\n",
    "while num != 0:\n",
    "    rem = num%2\n",
    "    lst.append(rem)\n",
    "    num = num//2\n",
    "\n",
    "print('Binary form: ', lst)"
   ]
  },
  {
   "cell_type": "markdown",
   "metadata": {},
   "source": [
    "### 6. Write a function cubesum() that accepts an integer and returns the sum of the cubes of individual digits of that number. Use this function to make functions PrintArmstrong() and isArmstrong() to print Armstrong numbers and to find whether is an Armstrong number."
   ]
  },
  {
   "cell_type": "code",
   "execution_count": 9,
   "metadata": {},
   "outputs": [
    {
     "name": "stdout",
     "output_type": "stream",
     "text": [
      "Enter a number to check whether it is Armstrong: 360\n",
      "The cubesum of this number is 243 and it is not an Armstrong number\n"
     ]
    }
   ],
   "source": [
    "num = int(input('Enter a number to check whether it is Armstrong: '))\n",
    "lst = list(map(int,str(num)))\n",
    "check = []\n",
    "\n",
    "def cubesum():\n",
    "    for ele in lst:\n",
    "        exp = ele**len(lst)\n",
    "        check.append(exp)\n",
    "    if sum(check) == num:\n",
    "          isArmstrong = True\n",
    "          print('The cubesum of this number is {} and it is an Armstrong number'.format(sum(check)))\n",
    "    else:\n",
    "          print('The cubesum of this number is {} and it is not an Armstrong number'.format(sum(check)))\n",
    "\n",
    "cubesum()"
   ]
  },
  {
   "cell_type": "markdown",
   "metadata": {},
   "source": [
    "### 7. Write a function prodDigits() that inputs a number and returns the product of digits of that number."
   ]
  },
  {
   "cell_type": "code",
   "execution_count": 18,
   "metadata": {
    "collapsed": true
   },
   "outputs": [
    {
     "name": "stdout",
     "output_type": "stream",
     "text": [
      "Enter a number: 456789\n"
     ]
    },
    {
     "data": {
      "text/plain": [
       "60480"
      ]
     },
     "execution_count": 18,
     "metadata": {},
     "output_type": "execute_result"
    }
   ],
   "source": [
    "from functools import reduce\n",
    "\n",
    "num = int(input('Enter a number: '))\n",
    "lst = list(map(int, str(num)))\n",
    "\n",
    "def prodDigits():\n",
    "    for ele in lst:\n",
    "        exp = reduce(lambda x, y: x*y, lst)\n",
    "        return exp\n",
    "    \n",
    "prodDigits()"
   ]
  },
  {
   "cell_type": "markdown",
   "metadata": {},
   "source": [
    "### 8. If all digits of a number n are multiplied by each other repeating with the product, the one digit number obtained at last is called the multiplicative digital root of n. The number of times digits need to be multiplied to reach one digit is called the multiplicative persistance of n. Example: 86 -> 48 -> 32 -> 6 (MDR 6, MPersistence 3) 341 -> 12->2 (MDR 2, MPersistence 2)Using the function prodDigits() of previous exercise write functions MDR() and MPersistence() that input a number and return its multiplicative digital root and multiplicative persistence respectively"
   ]
  },
  {
   "cell_type": "code",
   "execution_count": 8,
   "metadata": {},
   "outputs": [
    {
     "data": {
      "text/plain": [
       "(1, 12)"
      ]
     },
     "execution_count": 8,
     "metadata": {},
     "output_type": "execute_result"
    }
   ],
   "source": [
    "def prodDigits(n):\n",
    "    count, mdr = 0, n\n",
    "    while mdr > 9: # highest mdr=9 \n",
    "        m, digits = mdr, 1\n",
    "        while m:\n",
    "            m, md = divmod(m, 10)\n",
    "            digits *= md\n",
    "        mdr = digits\n",
    "        count += 1\n",
    "        return count, mdr\n",
    "        \n",
    "prodDigits(34)\n",
    "# website for reference: https://rosettacode.org/wiki/Digital_root/Multiplicative_digital_root#Python"
   ]
  },
  {
   "cell_type": "markdown",
   "metadata": {},
   "source": [
    "### 9. Write a function sumPdivisors() that finds the sum of proper divisors of a number. Proper divisors of a number are those numbers by which the number is divisible, except the number itself. For example proper divisors of 36 are 1, 2, 3, 4, 6, 9, 18"
   ]
  },
  {
   "cell_type": "code",
   "execution_count": null,
   "metadata": {},
   "outputs": [],
   "source": [
    "def sumPdiv(num):\n",
    "    lst = []\n",
    "    for ele in range(1, num):\n",
    "        if (num % ele) == 0:\n",
    "            lst.append(ele)\n",
    "    return sum(lst)\n",
    "\n",
    "sumPdiv(8)"
   ]
  },
  {
   "cell_type": "markdown",
   "metadata": {},
   "source": [
    "### 10.  A number is called perfect if the sum of proper divisors of that number is equal to the number. For example 28 is perfect number, since 1+2+4+7+14=28. Write a program to print all the perfect numbers in a given range"
   ]
  },
  {
   "cell_type": "code",
   "execution_count": 30,
   "metadata": {},
   "outputs": [
    {
     "name": "stdout",
     "output_type": "stream",
     "text": [
      "6\n",
      "28\n"
     ]
    }
   ],
   "source": [
    "def sumPdiv(num):\n",
    "    lst = []\n",
    "    for ele in range(1, num):\n",
    "        if (num % ele) == 0:\n",
    "            lst.append(ele)\n",
    "    return sum(lst)\n",
    "\n",
    "for num in range(1, 101):\n",
    "    if sumPdiv(num) == num:\n",
    "        print(num)"
   ]
  },
  {
   "cell_type": "markdown",
   "metadata": {},
   "source": [
    "### 11. Two different numbers are called amicable numbers if the sum of the proper divisors of each is equal to the other number. For example 220 and 284 are amicable numbers.Sum of proper divisors of 220 = 1+2+4+5+10+11+20+22+44+55+110 = 284Sum of proper divisors of 284 = 1+2+4+71+142 = 220Write a function to print pairs of amicable numbers in a range"
   ]
  },
  {
   "cell_type": "code",
   "execution_count": 42,
   "metadata": {},
   "outputs": [
    {
     "name": "stdout",
     "output_type": "stream",
     "text": [
      "Numbers are amicable\n"
     ]
    }
   ],
   "source": [
    "def amicable(num1, num2):\n",
    "    sum1=[]\n",
    "    sum2=[]\n",
    "    for i in range(1,num1):\n",
    "        if num1 % i == 0:\n",
    "            sum1.append(i)\n",
    "    for j in range(1,num2):\n",
    "        if num2 % j == 0:\n",
    "            sum2.append(j)\n",
    "    if(sum(sum1) == num2 and sum(sum2) == num1):\n",
    "        print('Numbers are amicable')\n",
    "    else:\n",
    "        print('Numbers are not amicable')\n",
    "\n",
    "amicable(220, 284)\n",
    "\n",
    "# unable to understand the part for looping over a range, please send over a sample solution if you can\n",
    "# reference: https://www.sanfoundry.com/python-program-check-numbers-amicable/"
   ]
  },
  {
   "cell_type": "markdown",
   "metadata": {},
   "source": [
    "### 12. Write a program which can filter odd numbers in a list by using filter function\n"
   ]
  },
  {
   "cell_type": "code",
   "execution_count": 53,
   "metadata": {},
   "outputs": [
    {
     "name": "stdout",
     "output_type": "stream",
     "text": [
      "Odd numbers: [1, 3, 5, 7]\n"
     ]
    }
   ],
   "source": [
    "lst = [1, 2, 3, 4, 5, 6, 7]\n",
    "\n",
    "def odd(num):\n",
    "    return (num % 2 != 0)\n",
    "\n",
    "filter_odd = filter(odd, lst)\n",
    "print('Odd numbers:', list(filter_odd))"
   ]
  },
  {
   "cell_type": "markdown",
   "metadata": {},
   "source": [
    "### 13. Write a program which can map() to make a list whose elements are cube of elements in a given list"
   ]
  },
  {
   "cell_type": "code",
   "execution_count": 4,
   "metadata": {},
   "outputs": [
    {
     "name": "stdout",
     "output_type": "stream",
     "text": [
      "[2]\n"
     ]
    }
   ],
   "source": [
    "def checker(lst1, lst2):\n",
    "    if lst1**3 == lst2:\n",
    "        return lst1\n",
    "\n",
    "lst1 = [1, 2, 3, 4]\n",
    "lst2 = [1, 8, 27, 16]\n",
    "\n",
    "x = map(checker, lst1, lst2)\n",
    "print([num for num in list(x) if num is not None])"
   ]
  },
  {
   "cell_type": "markdown",
   "metadata": {},
   "source": [
    "### 14. Write a program which can map() and filter() to make a list whose elements are cube of even number in a given list"
   ]
  },
  {
   "cell_type": "code",
   "execution_count": 7,
   "metadata": {},
   "outputs": [
    {
     "name": "stdout",
     "output_type": "stream",
     "text": [
      "[8]\n"
     ]
    }
   ],
   "source": [
    "def checker(lst1, lst2):\n",
    "    if (lst2%2 == 0 and lst1**3 == lst2):\n",
    "        return lst2\n",
    "\n",
    "lst1 = [1, 2, 3, 4]\n",
    "lst2 = [1, 8, 27, 16]\n",
    "\n",
    "x = map(checker, lst1, lst2)\n",
    "print([num for num in list(x) if num is not None])\n",
    "\n",
    "# Didn't understand where I could've used filter()"
   ]
  }
 ],
 "metadata": {
  "kernelspec": {
   "display_name": "Python 3",
   "language": "python",
   "name": "python3"
  },
  "language_info": {
   "codemirror_mode": {
    "name": "ipython",
    "version": 3
   },
   "file_extension": ".py",
   "mimetype": "text/x-python",
   "name": "python",
   "nbconvert_exporter": "python",
   "pygments_lexer": "ipython3",
   "version": "3.8.5"
  }
 },
 "nbformat": 4,
 "nbformat_minor": 4
}
